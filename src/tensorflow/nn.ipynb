{
 "cells": [
  {
   "cell_type": "markdown",
   "metadata": {},
   "source": [
    "First, Tensorflow must be installed:\n",
    "- Open an Anaconda Prompt (Start Menu -> Anaconda3 -> Anaconda Prompt)\n",
    "- pip install tensorflow"
   ]
  },
  {
   "cell_type": "code",
   "execution_count": 170,
   "metadata": {},
   "outputs": [],
   "source": [
    "import tensorflow as tf\n",
    "from tensorflow import keras\n",
    "import numpy as np\n",
    "import matplotlib.pyplot as plt"
   ]
  },
  {
   "cell_type": "markdown",
   "metadata": {},
   "source": [
    "# Regression"
   ]
  },
  {
   "cell_type": "code",
   "execution_count": 194,
   "metadata": {},
   "outputs": [
    {
     "data": {
      "image/png": "[encoded data removed]",
      "text/plain": [
       "<Figure size 432x288 with 1 Axes>"
      ]
     },
     "metadata": {
      "needs_background": "light"
     },
     "output_type": "display_data"
    }
   ],
   "source": [
    "def normalize(X):\n",
    "    N = X.shape[1]\n",
    "\n",
    "    m = np.mean(X)\n",
    "    standard_deviation = np.std(X)\n",
    "\n",
    "    return (X - m) / standard_deviation\n",
    "\n",
    "m_linear = 10\n",
    "X_linear = np.arange(-m_linear / 2, m_linear / 2)\n",
    "Y_linear = 5 * (X_linear - 10) + 60\n",
    "noise_1 = 10 * (np.random.rand(1, m_linear) - 0.5)\n",
    "\n",
    "X = X_linear# + noise_1[0]\n",
    "Y = Y_linear\n",
    "\n",
    "X_norm = normalize(X.reshape(1, m_linear))[0]\n",
    "Y_norm = normalize(Y.reshape(1, m_linear))[0]\n",
    "\n",
    "# Linear function\n",
    "model = keras.Sequential([keras.layers.Dense(units = 1, input_shape = [1])])\n",
    "model.compile(optimizer = keras.optimizers.Adam(learning_rate = 0.12), loss = 'mean_squared_error')\n",
    "model.fit(X_norm, Y_norm, epochs = 100, verbose = 0)\n",
    "\n",
    "Y_hat_norm = model.predict(X_norm)\n",
    "\n",
    "mean_Y = np.mean(Y)\n",
    "sd_Y = np.std(Y)\n",
    "Y_hat = sd_Y * Y_hat_norm + mean_Y\n",
    "\n",
    "plt.plot(X, Y, \"o\")\n",
    "plt.plot(X, Y_hat, \"r-\")\n",
    "plt.show()"
   ]
  },
  {
   "cell_type": "code",
   "execution_count": null,
   "metadata": {},
   "outputs": [],
   "source": []
  }
 ],
 "metadata": {
  "kernelspec": {
   "display_name": "Python 3",
   "language": "python",
   "name": "python3"
  },
  "language_info": {
   "codemirror_mode": {
    "name": "ipython",
    "version": 3
   },
   "file_extension": ".py",
   "mimetype": "text/x-python",
   "name": "python",
   "nbconvert_exporter": "python",
   "pygments_lexer": "ipython3",
   "version": "3.7.6"
  }
 },
 "nbformat": 4,
 "nbformat_minor": 4
}
