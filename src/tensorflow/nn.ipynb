{
 "cells": [
  {
   "cell_type": "markdown",
   "metadata": {},
   "source": [
    "First, Tensorflow must be installed:\n",
    "- Open an Anaconda Prompt (Start Menu -> Anaconda3 -> Anaconda Prompt)\n",
    "- pip install tensorflow"
   ]
  },
  {
   "cell_type": "code",
   "execution_count": 5,
   "metadata": {},
   "outputs": [],
   "source": [
    "import tensorflow as tf\n",
    "from tensorflow import keras\n",
    "import numpy as np\n",
    "import matplotlib.pyplot as plt"
   ]
  },
  {
   "cell_type": "code",
   "execution_count": 6,
   "metadata": {},
   "outputs": [],
   "source": [
    "def normalize(X):\n",
    "    m = np.mean(X)\n",
    "    standard_deviation = np.std(X)\n",
    "\n",
    "    return (X - m) / standard_deviation"
   ]
  },
  {
   "cell_type": "markdown",
   "metadata": {},
   "source": [
    "# Regression"
   ]
  },
  {
   "cell_type": "code",
   "execution_count": 27,
   "metadata": {},
   "outputs": [
    {
     "name": "stdout",
     "output_type": "stream",
     "text": [
      "Model: \"sequential_22\"\n",
      "_________________________________________________________________\n",
      "Layer (type)                 Output Shape              Param #   \n",
      "=================================================================\n",
      "dense_54 (Dense)             (None, 5)                 10        \n",
      "_________________________________________________________________\n",
      "dense_55 (Dense)             (None, 5)                 30        \n",
      "_________________________________________________________________\n",
      "dense_56 (Dense)             (None, 5)                 30        \n",
      "_________________________________________________________________\n",
      "dense_57 (Dense)             (None, 1)                 6         \n",
      "=================================================================\n",
      "Total params: 76\n",
      "Trainable params: 76\n",
      "Non-trainable params: 0\n",
      "_________________________________________________________________\n"
     ]
    },
    {
     "data": {
      "image/png": "[encoded data removed]",
      "text/plain": [
       "<Figure size 432x288 with 1 Axes>"
      ]
     },
     "metadata": {
      "needs_background": "light"
     },
     "output_type": "display_data"
    }
   ],
   "source": [
    "# linear, non-linear, very-wiggly\n",
    "problem = \"non-linear\"\n",
    "\n",
    "m_linear = 10\n",
    "X_linear = np.arange(-m_linear / 2, m_linear / 2).reshape(1, m_linear)\n",
    "Y_linear = 5 * (X_linear - 10) + 60# + 10 * (np.random.rand(1, m_linear) - 0.5)\n",
    "\n",
    "m_non_linear = 100\n",
    "X_non_linear = np.arange(-m_non_linear / 2, m_non_linear / 2).reshape(1, m_non_linear)\n",
    "Y_non_linear = 0.0004 * (X_non_linear - 25) ** 3 + 0.02 * (X_non_linear - 30) ** 2# + 10 * (np.random.rand(1, m_non_linear) - 0.5)\n",
    "\n",
    "m_very_wiggly = 1000\n",
    "X_very_wiggly = np.arange(-m_very_wiggly / 2, m_very_wiggly / 2).reshape(1, m_very_wiggly)\n",
    "Y_very_wiggly = 0.0002 * X_very_wiggly ** 2 + 10 * np.sin(X_very_wiggly / 25) + 10 * np.sin(X_very_wiggly / 50) + 10 * np.sin(X_very_wiggly / 100) + 10 * np.sin(X_very_wiggly / 200) + 10 * np.sin(X_very_wiggly / 400)# + 10 * (np.random.rand(1, m_very_wiggly) - 0.5)\n",
    "\n",
    "if(problem == \"linear\"):\n",
    "    m = m_linear\n",
    "    X = X_linear\n",
    "    Y = Y_linear\n",
    "elif(problem == \"non-linear\"):\n",
    "    m = m_non_linear\n",
    "    X = X_non_linear\n",
    "    Y = Y_non_linear\n",
    "elif(problem == \"very-wiggly\"):\n",
    "    m = m_very_wiggly\n",
    "    X = X_very_wiggly\n",
    "    Y = Y_very_wiggly\n",
    "\n",
    "X_norm = normalize(X)\n",
    "Y_norm = normalize(Y)\n",
    "\n",
    "if(problem == \"linear\"):\n",
    "    model = keras.Sequential([keras.layers.Dense(units = 2, activation = 'relu', input_shape = [1]),\n",
    "                              keras.layers.Dense(units = 1)])\n",
    "    model.compile(optimizer = keras.optimizers.Adam(learning_rate = 0.12), loss = 'mean_squared_error')\n",
    "    model.fit(X_norm[0], Y_norm[0], epochs = 100, verbose = 0)\n",
    "elif(problem == \"non-linear\"):\n",
    "    model = keras.Sequential([keras.layers.Dense(units = 5, activation = 'relu', input_shape = [1]),\n",
    "                              keras.layers.Dense(units = 5, activation = 'relu'),\n",
    "                              keras.layers.Dense(units = 5, activation = 'relu'),\n",
    "                              keras.layers.Dense(units = 1)])\n",
    "    model.compile(optimizer = keras.optimizers.Adam(learning_rate = 0.025), loss = 'mean_squared_error')\n",
    "    model.fit(X_norm[0], Y_norm[0], epochs = 3000, verbose = 0)\n",
    "elif(problem == \"very-wiggly\"):\n",
    "    model = keras.Sequential([keras.layers.Dense(units = 10, activation = 'relu', input_shape = [1]),\n",
    "                              keras.layers.Dense(units = 10, activation = 'relu'),\n",
    "                              keras.layers.Dense(units = 10, activation = 'relu'),\n",
    "                              keras.layers.Dense(units = 10, activation = 'relu'),\n",
    "                              keras.layers.Dense(units = 10, activation = 'relu'),\n",
    "                              keras.layers.Dense(units = 1)])\n",
    "    model.compile(optimizer = keras.optimizers.Adam(learning_rate = 0.01), loss = 'mean_squared_error')\n",
    "    model.fit(X_norm[0], Y_norm[0], epochs = 30000, verbose = 0)\n",
    "\n",
    "model.summary()\n",
    "Y_hat_norm = model.predict(X_norm[0]).reshape(1, m)\n",
    "\n",
    "mean_Y = np.mean(Y)\n",
    "sd_Y = np.std(Y)\n",
    "Y_hat = sd_Y * Y_hat_norm + mean_Y\n",
    "\n",
    "plt.plot(X[0], Y[0], \"o\")\n",
    "plt.plot(X[0], Y_hat[0], \"r-\")\n",
    "plt.show()\n"
   ]
  },
  {
   "cell_type": "markdown",
   "metadata": {},
   "source": [
    "# Classification"
   ]
  },
  {
   "cell_type": "code",
   "execution_count": 28,
   "metadata": {},
   "outputs": [
    {
     "name": "stdout",
     "output_type": "stream",
     "text": [
      "Model: \"sequential_23\"\n",
      "_________________________________________________________________\n",
      "Layer (type)                 Output Shape              Param #   \n",
      "=================================================================\n",
      "dense_58 (Dense)             (None, 2)                 4         \n",
      "_________________________________________________________________\n",
      "dense_59 (Dense)             (None, 2)                 6         \n",
      "=================================================================\n",
      "Total params: 10\n",
      "Trainable params: 10\n",
      "Non-trainable params: 0\n",
      "_________________________________________________________________\n"
     ]
    }
   ],
   "source": [
    "# simple\n",
    "problem = \"simple\"\n",
    "\n",
    "m_simple = 10\n",
    "X_simple = np.array([1.0, 2.0, 3.0, 4.0, 5.0, 6.0, 7.0, 8.0, 9.0, 10.0])\n",
    "Y_simple = np.array([0.0, 0.0, 0.0, 0.0, 0.0, 1.0, 1.0, 1.0, 1.0, 1.0])\n",
    "\n",
    "if(problem == \"simple\"):\n",
    "    m = m_simple\n",
    "    X = X_simple\n",
    "    Y = Y_simple\n",
    "    \n",
    "X_norm = normalize(X)\n",
    "\n",
    "model = tf.keras.models.Sequential([keras.layers.Dense(units = 2, activation = 'relu', input_shape = [1]),\n",
    "                                    tf.keras.layers.Dense(2, activation = 'softmax')])\n",
    "model.compile(optimizer = keras.optimizers.Adam(learning_rate = 0.12),\n",
    "              loss = 'sparse_categorical_crossentropy', metrics = ['accuracy'])\n",
    "model.fit(X_norm, Y, epochs = 100, verbose = 0)\n",
    "\n",
    "model.summary()\n",
    "Y_hat_norm = model.predict(X_norm)"
   ]
  },
  {
   "cell_type": "code",
   "execution_count": null,
   "metadata": {},
   "outputs": [],
   "source": []
  }
 ],
 "metadata": {
  "kernelspec": {
   "display_name": "Python 3",
   "language": "python",
   "name": "python3"
  },
  "language_info": {
   "codemirror_mode": {
    "name": "ipython",
    "version": 3
   },
   "file_extension": ".py",
   "mimetype": "text/x-python",
   "name": "python",
   "nbconvert_exporter": "python",
   "pygments_lexer": "ipython3",
   "version": "3.7.6"
  }
 },
 "nbformat": 4,
 "nbformat_minor": 4
}
