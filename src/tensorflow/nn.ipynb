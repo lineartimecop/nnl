{
 "cells": [
  {
   "cell_type": "markdown",
   "metadata": {},
   "source": [
    "First, Tensorflow must be installed:\n",
    "- Open an Anaconda Prompt (Start Menu -> Anaconda3 -> Anaconda Prompt)\n",
    "- pip install tensorflow"
   ]
  },
  {
   "cell_type": "code",
   "execution_count": 1,
   "metadata": {},
   "outputs": [],
   "source": [
    "import tensorflow as tf\n",
    "from tensorflow import keras\n",
    "import numpy as np\n",
    "import matplotlib.pyplot as plt"
   ]
  },
  {
   "cell_type": "markdown",
   "metadata": {},
   "source": [
    "# Regression"
   ]
  },
  {
   "cell_type": "code",
   "execution_count": 86,
   "metadata": {},
   "outputs": [
    {
     "name": "stdout",
     "output_type": "stream",
     "text": [
      "Model: \"sequential_80\"\n",
      "_________________________________________________________________\n",
      "Layer (type)                 Output Shape              Param #   \n",
      "=================================================================\n",
      "dense_204 (Dense)            (None, 10)                20        \n",
      "_________________________________________________________________\n",
      "dense_205 (Dense)            (None, 10)                110       \n",
      "_________________________________________________________________\n",
      "dense_206 (Dense)            (None, 10)                110       \n",
      "_________________________________________________________________\n",
      "dense_207 (Dense)            (None, 10)                110       \n",
      "_________________________________________________________________\n",
      "dense_208 (Dense)            (None, 10)                110       \n",
      "_________________________________________________________________\n",
      "dense_209 (Dense)            (None, 1)                 11        \n",
      "=================================================================\n",
      "Total params: 471\n",
      "Trainable params: 471\n",
      "Non-trainable params: 0\n",
      "_________________________________________________________________\n",
      "mean_squared_error\n"
     ]
    },
    {
     "data": {
      "image/png": "[encoded data removed]",
      "text/plain": [
       "<Figure size 432x288 with 1 Axes>"
      ]
     },
     "metadata": {
      "needs_background": "light"
     },
     "output_type": "display_data"
    }
   ],
   "source": [
    "# linear, non-linear, very-wiggly\n",
    "function = \"very-wiggly\"\n",
    "\n",
    "def normalize(X):\n",
    "    N = X.shape[1]\n",
    "\n",
    "    m = np.mean(X)\n",
    "    standard_deviation = np.std(X)\n",
    "\n",
    "    return (X - m) / standard_deviation\n",
    "\n",
    "m_linear = 10\n",
    "X_linear = np.arange(-m_linear / 2, m_linear / 2).reshape(1, m_linear)\n",
    "Y_linear = 5 * (X_linear - 10) + 60# + 10 * (np.random.rand(1, m_linear) - 0.5)\n",
    "\n",
    "m_non_linear = 100\n",
    "X_non_linear = np.arange(-m_non_linear / 2, m_non_linear / 2).reshape(1, m_non_linear)\n",
    "Y_non_linear = 0.0004 * (X_non_linear - 25) ** 3 + 0.02 * (X_non_linear - 30) ** 2# + 10 * (np.random.rand(1, m_non_linear) - 0.5)\n",
    "\n",
    "m_very_wiggly = 1000\n",
    "X_very_wiggly = np.arange(-m_very_wiggly / 2, m_very_wiggly / 2).reshape(1, m_very_wiggly)\n",
    "Y_very_wiggly = 0.0002 * X_very_wiggly ** 2 + 10 * np.sin(X_very_wiggly / 25) + 10 * np.sin(X_very_wiggly / 50) + 10 * np.sin(X_very_wiggly / 100) + 10 * np.sin(X_very_wiggly / 200) + 10 * np.sin(X_very_wiggly / 400)# + 10 * (np.random.rand(1, m_very_wiggly) - 0.5)\n",
    "\n",
    "if(function == \"linear\"):\n",
    "    m = m_linear\n",
    "    X = X_linear\n",
    "    Y = Y_linear\n",
    "elif(function == \"non-linear\"):\n",
    "    m = m_non_linear\n",
    "    X = X_non_linear\n",
    "    Y = Y_non_linear\n",
    "elif(function == \"very-wiggly\"):\n",
    "    m = m_very_wiggly\n",
    "    X = X_very_wiggly\n",
    "    Y = Y_very_wiggly\n",
    "\n",
    "X_norm = normalize(X)\n",
    "Y_norm = normalize(Y)\n",
    "\n",
    "if(function == \"linear\"):\n",
    "    model = keras.Sequential([keras.layers.Dense(units = 2, activation = 'relu', input_shape = [1]),\n",
    "                              keras.layers.Dense(units = 1)])\n",
    "    model.compile(optimizer = keras.optimizers.Adam(learning_rate = 0.12), loss = 'mean_squared_error')\n",
    "    model.fit(X_norm[0], Y_norm[0], epochs = 100, verbose = 0)\n",
    "elif(function == \"non-linear\"):\n",
    "    model = keras.Sequential([keras.layers.Dense(units = 5, activation = 'relu', input_shape = [1]),\n",
    "                              keras.layers.Dense(units = 5, activation = 'relu'),\n",
    "                              keras.layers.Dense(units = 5, activation = 'relu'),\n",
    "                              keras.layers.Dense(units = 1)])\n",
    "    model.compile(optimizer = keras.optimizers.Adam(learning_rate = 0.025), loss = 'mean_squared_error')\n",
    "    model.fit(X_norm[0], Y_norm[0], epochs = 3000, verbose = 0)\n",
    "elif(function == \"very-wiggly\"):\n",
    "    model = keras.Sequential([keras.layers.Dense(units = 10, activation = 'relu', input_shape = [1]),\n",
    "                              keras.layers.Dense(units = 10, activation = 'relu'),\n",
    "                              keras.layers.Dense(units = 10, activation = 'relu'),\n",
    "                              keras.layers.Dense(units = 10, activation = 'relu'),\n",
    "                              keras.layers.Dense(units = 10, activation = 'relu'),\n",
    "                              keras.layers.Dense(units = 1)])\n",
    "    model.compile(optimizer = keras.optimizers.Adam(learning_rate = 0.01), loss = 'mean_squared_error')\n",
    "    model.fit(X_norm[0], Y_norm[0], epochs = 30000, verbose = 0)\n",
    "\n",
    "model.summary()\n",
    "Y_hat_norm = model.predict(X_norm[0]).reshape(1, m)\n",
    "print(model.loss)\n",
    "\n",
    "mean_Y = np.mean(Y)\n",
    "sd_Y = np.std(Y)\n",
    "Y_hat = sd_Y * Y_hat_norm + mean_Y\n",
    "\n",
    "plt.plot(X[0], Y[0], \"o\")\n",
    "plt.plot(X[0], Y_hat[0], \"r-\")\n",
    "plt.show()\n"
   ]
  },
  {
   "cell_type": "code",
   "execution_count": null,
   "metadata": {},
   "outputs": [],
   "source": []
  }
 ],
 "metadata": {
  "kernelspec": {
   "display_name": "Python 3",
   "language": "python",
   "name": "python3"
  },
  "language_info": {
   "codemirror_mode": {
    "name": "ipython",
    "version": 3
   },
   "file_extension": ".py",
   "mimetype": "text/x-python",
   "name": "python",
   "nbconvert_exporter": "python",
   "pygments_lexer": "ipython3",
   "version": "3.7.6"
  }
 },
 "nbformat": 4,
 "nbformat_minor": 4
}
